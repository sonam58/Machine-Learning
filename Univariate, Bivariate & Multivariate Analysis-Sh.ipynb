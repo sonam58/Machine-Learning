{
 "cells": [
  {
   "cell_type": "code",
   "execution_count": 1,
   "metadata": {},
   "outputs": [],
   "source": [
    "import pandas as pd\n",
    "import numpy as np\n",
    "import matplotlib.pyplot as plt\n",
    "import seaborn as sns\n",
    "%matplotlib inline"
   ]
  },
  {
   "cell_type": "markdown",
   "metadata": {},
   "source": [
    "Mean, Median, Mode"
   ]
  },
  {
   "cell_type": "code",
   "execution_count": 2,
   "metadata": {},
   "outputs": [
    {
     "name": "stdout",
     "output_type": "stream",
     "text": [
      "[23 16 37 40 29 45 20 38 40 13 27 20  9 23 46 14 18 30 14 10 30 15 28 48\n",
      " 47 34 42 33 18 22  1 13  6 27 12 34  8 24 17 24 21 45 43 17 45  3 35 11\n",
      "  7 46]\n"
     ]
    }
   ],
   "source": [
    "df=np.random.randint(1,50,50)\n",
    "print(df)"
   ]
  },
  {
   "cell_type": "code",
   "execution_count": 3,
   "metadata": {},
   "outputs": [
    {
     "data": {
      "text/plain": [
       "25.36"
      ]
     },
     "execution_count": 3,
     "metadata": {},
     "output_type": "execute_result"
    }
   ],
   "source": [
    "np.mean(df)"
   ]
  },
  {
   "cell_type": "code",
   "execution_count": 4,
   "metadata": {},
   "outputs": [
    {
     "data": {
      "text/plain": [
       "23.5"
      ]
     },
     "execution_count": 4,
     "metadata": {},
     "output_type": "execute_result"
    }
   ],
   "source": [
    "np.median(df)"
   ]
  },
  {
   "cell_type": "code",
   "execution_count": 5,
   "metadata": {},
   "outputs": [
    {
     "ename": "SyntaxError",
     "evalue": "invalid syntax (<ipython-input-5-15953c5d9220>, line 5)",
     "output_type": "error",
     "traceback": [
      "\u001b[1;36m  File \u001b[1;32m\"<ipython-input-5-15953c5d9220>\"\u001b[1;36m, line \u001b[1;32m5\u001b[0m\n\u001b[1;33m    np.mode.(np1)\u001b[0m\n\u001b[1;37m            ^\u001b[0m\n\u001b[1;31mSyntaxError\u001b[0m\u001b[1;31m:\u001b[0m invalid syntax\n"
     ]
    }
   ],
   "source": [
    "#Mode\n",
    "l=[9,14,12,39,42,14,51,14] #In df above it does not work as multiple modes\n",
    "npl=np.array(l)\n",
    "npl\n",
    "np.mode.(np1)"
   ]
  },
  {
   "cell_type": "code",
   "execution_count": 6,
   "metadata": {},
   "outputs": [
    {
     "data": {
      "text/plain": [
       "14.25"
      ]
     },
     "execution_count": 6,
     "metadata": {},
     "output_type": "execute_result"
    }
   ],
   "source": [
    "Q1=np.quantile(df,0.25)\n",
    "Q1\n"
   ]
  },
  {
   "cell_type": "code",
   "execution_count": 7,
   "metadata": {},
   "outputs": [
    {
     "data": {
      "text/plain": [
       "36.5"
      ]
     },
     "execution_count": 7,
     "metadata": {},
     "output_type": "execute_result"
    }
   ],
   "source": [
    "Q3=np.quantile(df,0.75)\n",
    "Q3"
   ]
  },
  {
   "cell_type": "code",
   "execution_count": 8,
   "metadata": {},
   "outputs": [
    {
     "data": {
      "text/plain": [
       "22.25"
      ]
     },
     "execution_count": 8,
     "metadata": {},
     "output_type": "execute_result"
    }
   ],
   "source": [
    "IQR=Q3-Q1\n",
    "IQR"
   ]
  },
  {
   "cell_type": "code",
   "execution_count": 9,
   "metadata": {},
   "outputs": [
    {
     "data": {
      "text/plain": [
       "8.9"
      ]
     },
     "execution_count": 9,
     "metadata": {},
     "output_type": "execute_result"
    }
   ],
   "source": [
    "#Percentile or Decile\n",
    "np.quantile(df,0.1)"
   ]
  },
  {
   "cell_type": "code",
   "execution_count": 10,
   "metadata": {},
   "outputs": [
    {
     "data": {
      "text/plain": [
       "1.98"
      ]
     },
     "execution_count": 10,
     "metadata": {},
     "output_type": "execute_result"
    }
   ],
   "source": [
    "#Percentile or Decile\n",
    "np.quantile(df,0.01)"
   ]
  },
  {
   "cell_type": "markdown",
   "metadata": {},
   "source": [
    "Geometric Mean & Harmonic Mean"
   ]
  },
  {
   "cell_type": "code",
   "execution_count": 11,
   "metadata": {},
   "outputs": [
    {
     "data": {
      "text/plain": [
       "19.916429898639244"
      ]
     },
     "execution_count": 11,
     "metadata": {},
     "output_type": "execute_result"
    }
   ],
   "source": [
    "l=[9,14,12,39,42,14,51,14]\n",
    "npl=np.array(l)\n",
    "npl\n",
    "from scipy.stats import gmean\n",
    "gmean(npl)"
   ]
  },
  {
   "cell_type": "code",
   "execution_count": 12,
   "metadata": {},
   "outputs": [
    {
     "data": {
      "text/plain": [
       "16.743808485850654"
      ]
     },
     "execution_count": 12,
     "metadata": {},
     "output_type": "execute_result"
    }
   ],
   "source": [
    "l=[9,14,12,39,42,14,51,14]\n",
    "npl=np.array(l)\n",
    "npl\n",
    "from scipy.stats import hmean\n",
    "hmean(npl)"
   ]
  },
  {
   "cell_type": "markdown",
   "metadata": {},
   "source": [
    "Variance & SD"
   ]
  },
  {
   "cell_type": "code",
   "execution_count": 13,
   "metadata": {},
   "outputs": [
    {
     "data": {
      "text/plain": [
       "array([ 0.79142634,  0.23913368,  0.44918282, -0.9422669 ,  0.1275589 ,\n",
       "       -1.83829237,  0.23900534,  0.02018352,  1.416272  ,  1.16907798,\n",
       "        0.60391696, -0.81896238, -0.91663785, -1.29957587,  0.19385223,\n",
       "       -0.41048812,  1.03045959,  0.36478373, -1.17294867, -0.0790711 ,\n",
       "        0.78798162,  0.54938742,  0.53618093, -1.48496456, -0.30785063,\n",
       "        0.44130188,  1.73315602, -0.15596063, -0.91245987, -0.04396757,\n",
       "       -1.12183461, -0.32104088,  1.20003288,  0.51305742,  0.37712018,\n",
       "       -0.402455  ,  0.9052807 ,  0.06005685, -0.91277669, -1.13177494,\n",
       "        1.42542355, -2.01593318, -0.87720507,  0.0289262 ,  0.25390692,\n",
       "        1.45358356,  1.01916608, -0.52773577, -1.20040727,  1.06436141])"
      ]
     },
     "execution_count": 13,
     "metadata": {},
     "output_type": "execute_result"
    }
   ],
   "source": [
    "#Population\n",
    "population=np.random.randn(50)\n",
    "population"
   ]
  },
  {
   "cell_type": "code",
   "execution_count": 14,
   "metadata": {},
   "outputs": [
    {
     "name": "stderr",
     "output_type": "stream",
     "text": [
      "C:\\ProgramData\\Anaconda3\\lib\\site-packages\\seaborn\\distributions.py:2551: FutureWarning: `distplot` is a deprecated function and will be removed in a future version. Please adapt your code to use either `displot` (a figure-level function with similar flexibility) or `histplot` (an axes-level function for histograms).\n",
      "  warnings.warn(msg, FutureWarning)\n"
     ]
    },
    {
     "data": {
      "text/plain": [
       "<AxesSubplot:ylabel='Density'>"
      ]
     },
     "execution_count": 14,
     "metadata": {},
     "output_type": "execute_result"
    },
    {
     "data": {
      "image/png": "[encoded data removed]",
      "text/plain": [
       "<Figure size 432x288 with 1 Axes>"
      ]
     },
     "metadata": {
      "needs_background": "light"
     },
     "output_type": "display_data"
    }
   ],
   "source": [
    "sns.distplot(population)"
   ]
  },
  {
   "cell_type": "code",
   "execution_count": 15,
   "metadata": {},
   "outputs": [
    {
     "data": {
      "text/plain": [
       "<AxesSubplot:ylabel='Density'>"
      ]
     },
     "execution_count": 15,
     "metadata": {},
     "output_type": "execute_result"
    },
    {
     "data": {
      "image/png": "[encoded data removed]",
      "text/plain": [
       "<Figure size 432x288 with 1 Axes>"
      ]
     },
     "metadata": {
      "needs_background": "light"
     },
     "output_type": "display_data"
    }
   ],
   "source": [
    "sns.kdeplot(population)"
   ]
  },
  {
   "cell_type": "code",
   "execution_count": 16,
   "metadata": {},
   "outputs": [
    {
     "data": {
      "text/plain": [
       "array([-1.48496456,  1.03045959,  0.02018352,  0.51305742,  0.53618093,\n",
       "        0.54938742, -0.32104088,  0.02018352,  0.44130188, -1.20040727,\n",
       "        0.44918282,  1.16907798,  0.44130188, -0.91663785, -1.83829237,\n",
       "        0.06005685,  0.1275589 ,  1.03045959, -0.41048812,  1.01916608])"
      ]
     },
     "execution_count": 16,
     "metadata": {},
     "output_type": "execute_result"
    }
   ],
   "source": [
    "#sample\n",
    "sample=np.random.choice(population,20)\n",
    "sample"
   ]
  },
  {
   "cell_type": "code",
   "execution_count": 17,
   "metadata": {},
   "outputs": [
    {
     "data": {
      "text/plain": [
       "<AxesSubplot:ylabel='Density'>"
      ]
     },
     "execution_count": 17,
     "metadata": {},
     "output_type": "execute_result"
    },
    {
     "data": {
      "image/png": "[encoded data removed]",
      "text/plain": [
       "<Figure size 432x288 with 1 Axes>"
      ]
     },
     "metadata": {
      "needs_background": "light"
     },
     "output_type": "display_data"
    }
   ],
   "source": [
    "sns.kdeplot(sample)"
   ]
  },
  {
   "cell_type": "code",
   "execution_count": 18,
   "metadata": {},
   "outputs": [
    {
     "name": "stderr",
     "output_type": "stream",
     "text": [
      "C:\\ProgramData\\Anaconda3\\lib\\site-packages\\seaborn\\distributions.py:2551: FutureWarning: `distplot` is a deprecated function and will be removed in a future version. Please adapt your code to use either `displot` (a figure-level function with similar flexibility) or `histplot` (an axes-level function for histograms).\n",
      "  warnings.warn(msg, FutureWarning)\n"
     ]
    },
    {
     "data": {
      "text/plain": [
       "<AxesSubplot:ylabel='Density'>"
      ]
     },
     "execution_count": 18,
     "metadata": {},
     "output_type": "execute_result"
    },
    {
     "data": {
      "image/png": "[encoded data removed]",
      "text/plain": [
       "<Figure size 432x288 with 1 Axes>"
      ]
     },
     "metadata": {
      "needs_background": "light"
     },
     "output_type": "display_data"
    }
   ],
   "source": [
    "sns.distplot(sample)"
   ]
  },
  {
   "cell_type": "code",
   "execution_count": 19,
   "metadata": {},
   "outputs": [
    {
     "data": {
      "text/plain": [
       "0.835093134382269"
      ]
     },
     "execution_count": 19,
     "metadata": {},
     "output_type": "execute_result"
    }
   ],
   "source": [
    "np.var(population)"
   ]
  },
  {
   "cell_type": "code",
   "execution_count": 20,
   "metadata": {},
   "outputs": [
    {
     "data": {
      "text/plain": [
       "0.9138343035705483"
      ]
     },
     "execution_count": 20,
     "metadata": {},
     "output_type": "execute_result"
    }
   ],
   "source": [
    "np.std(population)"
   ]
  },
  {
   "cell_type": "code",
   "execution_count": 21,
   "metadata": {},
   "outputs": [
    {
     "data": {
      "text/plain": [
       "0.7027245883757816"
      ]
     },
     "execution_count": 21,
     "metadata": {},
     "output_type": "execute_result"
    }
   ],
   "source": [
    "np.var(sample)"
   ]
  },
  {
   "cell_type": "code",
   "execution_count": 22,
   "metadata": {},
   "outputs": [
    {
     "data": {
      "text/plain": [
       "0.9138343035705483"
      ]
     },
     "execution_count": 22,
     "metadata": {},
     "output_type": "execute_result"
    }
   ],
   "source": [
    "np.std(population)"
   ]
  },
  {
   "cell_type": "code",
   "execution_count": 23,
   "metadata": {},
   "outputs": [
    {
     "data": {
      "text/plain": [
       "array([-3.10600113e-01, -2.95470236e+00, -6.70482842e-01,  1.57012801e+00,\n",
       "        1.86861897e+00, -1.85573389e+00, -2.55878969e+00,  1.93559666e+00,\n",
       "       -3.83393611e-02, -8.49419877e-02,  5.55537025e-01,  1.70676093e+00,\n",
       "       -2.78368984e+00,  3.08292307e+00,  9.78006610e-01,  1.80315371e-01,\n",
       "        4.51114030e-01,  2.55482783e+00,  1.45228097e-01,  5.57159663e-01,\n",
       "       -1.05900805e+00,  3.69024425e+00,  4.79972829e+00, -1.69137018e+00,\n",
       "       -2.95954520e-01,  1.19176566e+00, -2.93441987e+00, -5.54503777e+00,\n",
       "       -1.43636920e+00,  2.26816246e+00, -2.80058561e+00, -4.02283749e-01,\n",
       "       -2.85785102e+00,  3.66479133e+00, -1.71425943e+00,  1.02988970e+00,\n",
       "       -3.48618854e+00,  3.16554300e+00, -2.03591257e+00, -7.86082463e-01,\n",
       "       -1.20864379e+00,  1.81356420e+00,  2.98945798e+00,  5.32198016e-02,\n",
       "        3.00969023e+00,  5.01922194e-01,  3.47076504e+00,  1.07950295e+00,\n",
       "        9.59280615e-01,  1.15240017e+00,  1.45416159e+00, -2.19245343e+00,\n",
       "       -2.46142134e-01, -1.58726969e+00,  1.09740988e+00, -1.37519595e+00,\n",
       "       -1.02815945e+00, -1.49363119e+00,  3.90074020e-01,  3.38836517e+00,\n",
       "        3.34818478e+00, -3.46681935e+00,  4.54450890e-01,  3.00562528e+00,\n",
       "        7.84386069e-01, -4.85918835e-02, -1.44293834e+00,  2.82826878e-02,\n",
       "       -6.77609205e-01, -9.13251995e-01,  2.74635095e+00,  2.14356513e+00,\n",
       "        1.89518133e+00,  1.09793400e+00, -1.34425455e+00,  1.62675985e+00,\n",
       "        1.42580868e+00, -5.73823429e-01, -1.08123340e+00,  2.43134027e+00,\n",
       "        4.98888402e-01, -7.57294812e-01,  1.79719550e-02, -1.45247758e+00,\n",
       "       -9.68740160e-01,  1.99904916e+00,  2.43446700e+00, -1.82282150e+00,\n",
       "       -8.03303677e-01,  1.45321474e-01, -9.86184877e-02,  9.06223404e-01,\n",
       "       -2.31197387e+00, -1.90911106e+00, -7.60154162e-01, -1.35655196e+00,\n",
       "       -1.37753063e+00, -1.58516098e+00, -2.00005125e+00,  4.06082531e+00,\n",
       "       -2.37245861e-01,  3.25819459e+00, -2.57896724e+00,  2.03761685e+00,\n",
       "       -8.81472083e-01,  7.75556891e-01, -1.23210080e+00, -2.95244983e+00,\n",
       "        9.80482868e-01, -3.77244950e+00, -9.93191130e-01,  3.27876708e+00,\n",
       "        2.24569166e-01, -1.35090944e+00,  3.28173321e+00,  1.13876825e+00,\n",
       "        1.34222954e-01, -2.19072136e-01, -3.99349128e-01,  1.11519789e+00,\n",
       "        1.53835307e+00, -1.73927569e+00,  2.27760526e+00, -1.05445883e+00,\n",
       "       -7.96883012e-01, -2.67548977e+00,  6.77027618e-01,  1.87343731e+00,\n",
       "       -1.64775551e+00,  5.56152420e-01, -1.21516202e+00,  1.99446612e+00,\n",
       "       -1.78713136e-01,  6.40713618e-01,  1.94502301e+00, -1.14378066e-01,\n",
       "        3.36402299e+00, -1.59727458e+00, -1.34804177e+00, -5.98720491e-01,\n",
       "       -8.25997020e-01,  2.83201792e+00, -2.38494071e+00,  1.56542148e-01,\n",
       "        3.20929382e+00,  3.58233652e+00,  3.07805039e+00, -1.94869328e+00,\n",
       "        1.83524285e+00, -1.62369450e+00,  8.80477759e-01,  6.91444335e-01,\n",
       "       -3.61858138e+00, -2.90067891e+00, -3.67649631e-01, -4.98340053e-01,\n",
       "       -2.50614956e+00,  2.76808371e+00, -9.70860920e-01,  7.21571225e-01,\n",
       "        1.17147176e-01,  6.53989014e-01,  3.75505260e+00, -1.85123542e+00,\n",
       "        1.78092227e+00, -1.04546230e+00, -1.93470138e+00, -2.30872562e+00,\n",
       "       -8.06102314e-01, -1.25034304e+00, -2.72079529e-01,  1.74633940e+00,\n",
       "        5.79533753e-02, -1.03249630e+00, -4.89902956e+00, -1.24145918e+00,\n",
       "        2.57893301e+00, -5.04244117e+00, -1.47213632e-01,  5.50243827e+00,\n",
       "        1.89438227e+00, -1.29461381e+00,  4.51630391e+00, -3.80457281e-01,\n",
       "       -3.41042233e+00, -2.27234901e+00, -2.52892262e+00, -1.58550052e+00,\n",
       "        1.06556396e+00,  3.94274343e-01, -2.05325282e-01,  3.74942878e+00,\n",
       "        1.59993084e+00, -9.20614219e-01,  1.43930645e-01,  1.10568867e+00,\n",
       "        3.55642627e-01, -3.09393392e+00,  8.07860402e-02,  2.44873303e-01,\n",
       "       -3.30673034e+00,  4.66279153e+00, -4.27701252e+00,  7.00793536e-01,\n",
       "       -6.39074618e-01,  4.04909620e+00, -1.84988303e-01,  7.16577130e-01,\n",
       "       -1.28397250e+00,  2.85943178e-01,  8.41690914e-01,  1.92552213e+00,\n",
       "       -3.77840105e+00, -1.36777845e-01, -4.09550397e-01, -1.47748771e+00,\n",
       "        1.06031113e+00,  2.21786273e+00, -1.79641330e+00,  1.89230048e+00,\n",
       "       -9.15327371e-01,  1.86869659e+00,  8.92678479e-01, -4.05361663e-01,\n",
       "        2.64601303e+00, -1.04657934e+00,  2.72027769e+00,  2.04992071e+00,\n",
       "        5.52804614e-01, -1.03455060e+00,  7.06464673e-01,  4.05924707e-01,\n",
       "       -8.13369116e-01, -1.24556233e+00, -1.93746539e+00, -3.47603336e+00,\n",
       "        1.94746521e-01,  2.38617491e+00,  1.97251417e+00,  4.53590780e+00,\n",
       "       -1.00279992e+00, -1.58897422e+00,  2.23401793e+00,  1.26559891e+00,\n",
       "       -3.22445992e-01, -3.41201122e-02, -9.17561215e-01, -2.85479148e+00,\n",
       "       -2.13339285e+00,  2.19852684e+00, -6.15210201e-01,  3.74247395e-01,\n",
       "       -1.02216667e+00,  1.83090261e+00,  1.88873647e+00, -3.20815281e+00,\n",
       "        1.58617905e+00,  1.93677500e+00, -1.72494039e+00,  2.29129341e+00,\n",
       "        6.31035031e-02,  1.39893244e+00, -3.04518330e+00, -2.16837331e-01,\n",
       "       -2.08663410e+00,  7.04086018e-01, -1.11806395e+00,  2.55774665e+00,\n",
       "        1.60717063e+00, -1.41423979e+00, -6.15057264e-01,  3.63649443e+00,\n",
       "       -1.34818002e+00,  1.61223626e+00, -2.87902944e-01, -6.46681072e-01,\n",
       "        4.68189593e+00,  4.24366272e+00, -5.18906991e-01,  7.66644357e-01,\n",
       "       -1.24788407e+00, -2.05971024e+00, -3.00465805e-01,  6.68407923e-01,\n",
       "        1.69505876e+00,  9.21188221e-02, -7.60235385e-02, -1.30491553e+00,\n",
       "        6.78559153e-02,  3.40163764e+00, -2.14722387e+00,  9.63855690e-01,\n",
       "       -7.47076351e-02,  2.50899339e+00,  1.29929374e+00,  3.07587684e+00,\n",
       "        2.95599686e-01, -3.46984937e+00,  1.43239678e+00, -1.55412299e+00,\n",
       "        1.57797041e+00,  3.20023731e+00, -3.08992490e+00,  1.39201010e+00,\n",
       "        1.64453565e+00,  1.78470413e-01,  3.18630842e+00,  2.38151091e+00,\n",
       "        1.65377724e+00,  9.07774834e-01, -2.71511708e+00, -3.54643456e+00,\n",
       "       -1.42439935e+00, -4.11189127e+00, -1.43039606e+00,  1.98181733e+00,\n",
       "        1.01666659e-02,  6.44584427e-01,  2.66637367e+00,  1.06847339e+00,\n",
       "        1.48737593e+00, -1.84739023e+00,  1.01320218e+00,  6.33264336e-01,\n",
       "       -1.11103263e+00,  2.86761943e-01, -1.34156983e+00, -3.44128081e-01,\n",
       "       -1.73883199e-01, -7.41263995e-02, -1.18114552e+00,  2.38667322e+00,\n",
       "        1.00261427e-01, -1.03003566e+00, -2.56860437e+00,  1.66203396e+00,\n",
       "       -2.91466406e+00, -1.55236460e+00, -2.09280067e+00, -1.15940186e+00,\n",
       "       -2.05184483e+00,  1.76555542e+00,  1.45617388e+00,  1.02111069e+00,\n",
       "        5.15062589e-02, -9.03355942e-02,  5.99252880e-01,  1.85253115e+00,\n",
       "       -3.30502332e+00, -6.85851658e-01,  1.06868189e+00, -2.63532383e+00,\n",
       "        2.78897367e+00, -4.22007728e-01,  1.25233902e+00, -1.99906986e+00,\n",
       "       -2.10191412e+00, -4.01101360e+00,  3.48518903e-01,  2.77592122e+00,\n",
       "       -3.10055501e+00,  3.33433251e+00, -1.99228755e+00,  9.57214963e-01,\n",
       "       -2.50753000e+00, -2.76824856e+00,  2.80360975e+00, -1.11005723e+00,\n",
       "        7.28094012e-01,  4.42493025e-01, -1.38899454e+00,  4.62431611e-01,\n",
       "       -6.99921739e-01,  5.14442277e-01, -1.54349472e+00, -8.14244596e-01,\n",
       "        3.05890440e-01, -8.54534747e-01,  2.70427876e+00, -1.69453160e+00,\n",
       "       -2.46560166e+00, -2.04666466e+00, -1.89980484e+00, -6.04026393e-01,\n",
       "        2.57583178e+00,  2.92294480e+00, -1.82394626e+00, -2.03959472e+00,\n",
       "       -1.18200599e+00, -2.01349382e-01,  3.23368502e+00, -1.52503358e-02,\n",
       "       -2.71532240e-01,  2.24083455e+00, -1.18028008e+00,  7.41459945e-01,\n",
       "       -2.06438737e+00, -8.64399490e-01,  1.51094987e+00,  8.79824869e-01,\n",
       "        1.13650514e+00,  4.11305543e+00, -9.52242362e-01, -8.88844063e-01,\n",
       "       -3.11006197e+00,  2.43788749e+00, -6.84597711e-01, -1.37808343e+00,\n",
       "       -2.75793685e+00, -2.05940590e+00, -1.65171512e+00, -5.76841752e-01,\n",
       "        1.14538064e+00, -1.64248473e+00, -6.63707294e-01, -1.14052563e+00,\n",
       "       -2.15285091e+00, -2.18743116e+00, -1.54320795e+00,  1.76785879e+00,\n",
       "        9.36267525e-01, -1.61751799e-01,  4.18652731e+00,  2.98269758e-02,\n",
       "        3.43773432e+00, -1.00461468e+00,  2.21270094e-01,  4.71531309e-01,\n",
       "       -8.59789424e-01,  1.41160638e+00, -2.42604403e+00,  3.46668589e+00,\n",
       "       -8.65822416e-01,  4.16792756e+00,  1.53422675e+00,  2.73641857e+00,\n",
       "        3.48115886e+00, -2.27066025e+00,  5.78161936e-01, -3.46014164e+00,\n",
       "       -1.74826884e+00,  3.67822023e+00, -5.00342504e+00, -2.03800053e+00,\n",
       "       -2.21900564e+00, -1.58614855e+00, -4.35316236e-01,  1.95610013e+00,\n",
       "       -1.59041838e+00,  1.90445750e+00, -2.16507013e-01, -1.64519465e+00,\n",
       "        1.80564455e-01, -3.64234859e+00,  1.89899291e-02,  3.90709593e-01,\n",
       "       -7.64296984e-01,  1.63974470e+00, -1.73935362e+00,  4.27752459e+00,\n",
       "        2.01594174e+00, -6.24237849e-01, -1.68208243e+00,  1.83236702e+00,\n",
       "       -3.75901499e-01,  2.40249099e+00, -1.57622352e+00,  3.89100449e+00,\n",
       "       -1.95140989e-01,  1.71966152e+00, -2.12845492e+00,  1.76865865e+00,\n",
       "        3.43372279e+00,  7.72537607e-01,  1.87015450e-01, -1.33676259e+00,\n",
       "        2.40191622e+00, -4.73646744e+00, -4.59901100e-01,  2.29019205e+00,\n",
       "       -1.65774090e+00,  2.13703441e+00,  2.41719806e-02,  2.66575913e+00,\n",
       "       -3.42637404e-01, -2.01111934e+00, -5.34616159e-03, -2.00405124e+00,\n",
       "       -3.79820059e-01, -1.64885289e+00, -3.08461102e+00, -9.86085205e-02,\n",
       "       -3.91779539e+00,  8.32236547e-01,  6.18257561e-01,  3.93198365e+00,\n",
       "       -4.74340926e-01,  3.77382841e+00,  4.11040183e+00, -7.61279574e-01,\n",
       "       -3.15853925e+00, -2.53289257e+00,  4.46557861e+00, -1.27970450e+00,\n",
       "       -1.23925514e+00, -1.32056103e-01, -1.26876471e+00, -3.72189412e+00,\n",
       "       -3.78728603e+00,  1.20510543e+00, -3.28474676e-01, -1.82122609e+00,\n",
       "        9.66720466e-01,  1.77118111e+00,  2.19775191e+00,  4.17843971e+00,\n",
       "        1.41943245e+00, -3.29224652e-01, -8.81638295e-01,  1.53384257e+00,\n",
       "        2.61740394e+00, -5.15007339e-01,  3.88353833e+00,  1.57593991e+00,\n",
       "       -1.41433954e+00, -1.79595320e+00, -4.76287123e-01, -5.30226956e-01,\n",
       "       -8.24528905e-01, -5.11120435e-01, -4.86552648e-01, -1.55988434e+00,\n",
       "        1.96487322e+00,  1.04385316e+00,  1.54862942e+00,  1.39143797e+00,\n",
       "        2.96499435e+00, -7.55738945e-01,  4.64887082e-01, -3.95726944e-01,\n",
       "       -3.94391045e+00, -1.95079427e-01, -2.84154810e+00,  1.60541328e+00,\n",
       "       -1.59899584e+00, -1.33996207e+00,  1.95423597e+00,  3.23629594e-01,\n",
       "        5.76772256e-01, -2.93261900e+00,  1.39690468e+00,  4.49979752e+00,\n",
       "       -3.70988371e+00,  1.78854235e+00,  3.57085912e+00,  3.39893639e-01,\n",
       "       -2.18530684e+00, -1.19752266e+00,  1.67358456e+00,  1.21850659e+00,\n",
       "       -1.04851342e+00, -2.04703333e-01, -1.90001611e+00,  2.27493590e+00,\n",
       "       -5.33324406e-01,  3.11094196e-01, -1.63865239e+00,  1.92836363e+00,\n",
       "       -1.57681830e+00,  1.41128525e+00,  1.50677591e+00,  4.69470619e-01,\n",
       "        1.58631241e+00, -3.72170192e-01,  1.42368326e+00, -8.46765322e-01,\n",
       "       -1.61995681e+00, -1.84848062e-01,  1.13764425e+00,  1.49073624e-02,\n",
       "       -2.59357922e+00,  4.46656115e-01,  1.72235421e+00, -1.89481657e+00,\n",
       "       -1.20320361e-01,  8.35407076e-01, -6.75981163e-02, -5.13620091e+00,\n",
       "        2.71997320e+00, -3.26012804e+00, -1.58450782e+00,  2.06680297e+00,\n",
       "        2.02310415e+00,  3.92424551e-01,  1.04484395e+00,  2.31531714e+00,\n",
       "       -6.45788806e-02, -4.67255316e-02,  2.08861331e+00,  2.07976604e+00,\n",
       "       -2.29516162e-01, -9.09642161e-01,  8.23703084e-01, -3.90340277e-01,\n",
       "       -5.36312243e-01, -2.00920796e+00, -9.98925826e-01,  2.28093491e+00,\n",
       "        1.11853779e+00,  1.01472716e+00, -2.17229401e+00, -1.33888406e+00,\n",
       "        4.55051003e+00, -1.21640745e+00, -1.68323269e+00, -6.31787904e-01,\n",
       "        7.10275073e-01, -2.39633144e+00,  2.71737602e+00,  1.03138243e+00,\n",
       "        8.70651900e-02, -1.07762954e+00,  3.71661280e-01,  3.65002985e+00,\n",
       "       -2.17482069e+00,  4.84338454e+00,  5.59423304e-01, -2.00973714e+00,\n",
       "       -3.69293241e-01,  1.86737167e+00,  3.05681725e-01, -5.96497693e-02,\n",
       "       -3.06342220e+00, -9.76397043e-02, -9.78636079e-01, -6.09867807e-01,\n",
       "       -4.68254666e-01, -1.86497362e+00,  1.07909114e+00, -2.56231970e+00,\n",
       "       -1.87044386e-02,  9.55807657e-01, -8.63942900e-01,  2.16014464e+00,\n",
       "       -7.42956839e-01,  2.61353907e+00, -4.68292367e+00,  1.73379825e+00,\n",
       "       -8.93877177e-01, -1.54395011e+00, -3.22055065e+00,  8.30438305e-01,\n",
       "       -1.83442618e+00,  4.05652871e+00,  1.12849681e+00,  1.85804529e+00,\n",
       "        2.69099468e+00, -1.38128035e+00,  6.46783859e-01, -1.31539183e+00,\n",
       "       -1.93718234e+00,  3.28323862e+00, -5.16127946e+00,  5.60168920e-01,\n",
       "        8.70571201e-01,  2.90757252e+00, -1.37385166e+00, -5.45615984e-01,\n",
       "        1.04902041e+00, -1.70342405e+00, -2.29635961e+00, -7.85614486e-01,\n",
       "       -2.95974210e+00, -8.97929646e-01,  7.40929525e-01,  4.09166719e+00,\n",
       "        7.08586124e-01, -2.88615698e+00,  2.57986679e+00,  1.37366020e+00,\n",
       "        1.29237976e+00, -9.76552033e-01,  1.41263010e+00, -1.81257823e+00,\n",
       "       -6.91269343e-01, -2.41806065e+00,  1.78453942e+00, -2.65990070e-01,\n",
       "       -1.33247692e+00,  2.73636850e+00,  1.29271613e+00, -2.71140064e+00,\n",
       "       -2.88704037e+00,  1.77868626e+00,  3.26187165e+00, -2.70121283e+00,\n",
       "       -1.45312307e+00, -1.40425971e-01,  7.85416997e-01,  3.79190690e-01,\n",
       "        1.04935494e+00,  1.68686962e+00, -4.91342614e-01,  3.89933448e+00,\n",
       "        7.60566898e-01, -2.04818710e+00, -2.07476562e+00,  2.83045373e+00,\n",
       "       -1.71203939e+00, -1.01121099e+00, -1.04095635e+00, -1.07106982e+00,\n",
       "       -5.70237093e-01, -2.06160098e-01, -1.26259998e+00,  3.40188220e+00,\n",
       "       -8.17967506e-01,  9.94449084e-01,  1.30379398e+00,  1.11867669e+00,\n",
       "       -2.33275410e-01, -2.76352142e-01,  2.16980267e+00, -6.71000485e-01,\n",
       "       -2.26977257e+00,  2.15040558e+00,  2.16265774e+00,  2.58725330e+00,\n",
       "       -1.04256215e+00, -1.87568371e+00, -1.49202299e+00,  1.71433174e+00,\n",
       "        1.52428789e+00,  1.33185399e-01,  1.20897150e+00,  2.14376424e+00,\n",
       "       -1.80626385e+00, -1.04056675e+00, -3.25738675e-01, -2.41602791e+00,\n",
       "       -5.31207450e-01,  6.29933175e-01, -9.29533305e-01,  4.01327083e+00,\n",
       "        1.41659967e-01,  4.22359729e-01, -3.20888450e+00,  1.96321928e+00,\n",
       "        2.54378870e+00,  1.36511197e+00,  3.62709253e-01, -2.67554977e-01,\n",
       "       -2.24744681e+00, -2.69772730e-01,  1.14021655e+00, -7.69482988e-01,\n",
       "        2.02661873e+00,  3.42154467e+00,  6.86433589e-01, -1.98367690e+00,\n",
       "        1.32349670e+00,  2.57534799e+00,  1.23910305e-01,  8.61512229e-01,\n",
       "       -1.05175913e+00,  1.89294346e+00, -1.30287648e-01,  4.23796893e+00,\n",
       "        1.49364449e+00, -6.05501182e-01, -6.04507610e-01,  2.35605564e+00,\n",
       "        2.89916145e+00, -3.66449743e+00,  3.15184406e+00, -1.17757311e+00,\n",
       "        2.34846819e+00,  2.02705590e+00, -6.23973647e-01,  5.49464129e-01,\n",
       "       -9.13384322e-01,  4.46124286e+00,  1.99326819e-01,  1.50336384e+00,\n",
       "        2.90947058e+00,  1.33422968e+00,  7.62471383e-01, -2.62514957e+00,\n",
       "        2.17088746e+00, -2.35531772e-01,  7.44809095e-01, -1.59310952e+00,\n",
       "        8.67293690e-01,  5.94118119e-01,  3.21717276e-01,  2.84887186e+00,\n",
       "       -5.58837509e-01,  3.32013412e-01, -1.62367162e+00, -2.30304257e+00,\n",
       "       -2.81910318e+00, -8.17423714e-01, -1.55594615e+00,  1.78545126e+00,\n",
       "        3.47400290e+00,  5.28846012e-01, -3.19757214e+00,  9.40040042e-01,\n",
       "        9.26891647e-01, -9.41285656e-01, -1.47566238e-01, -1.24693054e-01,\n",
       "        1.26600271e+00,  5.04099650e-01,  2.34907968e-01,  3.13448063e+00,\n",
       "        1.54020557e+00, -1.88126859e+00, -2.28490258e+00, -9.84983660e-01,\n",
       "        3.62388063e-01,  1.35813320e+00, -2.60048830e-01,  2.04354555e+00,\n",
       "       -3.25341075e+00,  2.25316430e+00,  7.94597079e+00, -2.87846497e+00,\n",
       "        2.71708538e+00, -1.74470396e+00,  3.53644168e+00, -1.97700370e+00,\n",
       "        3.39740140e+00,  1.64170353e+00,  2.26134457e+00,  2.54109673e+00,\n",
       "       -2.44319932e+00,  6.51434743e-01, -1.48503125e+00,  1.85547330e+00,\n",
       "       -1.27864087e-01, -1.24102435e+00,  2.04440703e+00, -1.72067131e+00,\n",
       "       -6.77089469e-01,  2.18447566e-01, -2.07837006e+00,  3.66599060e+00,\n",
       "        1.80318766e+00,  1.35222455e+00,  2.34637237e+00,  7.54491085e-01,\n",
       "        6.93542532e-01,  1.99173588e-01, -1.45528465e+00,  2.07631399e+00,\n",
       "       -8.89009519e-01, -2.30227321e+00, -1.62014001e+00,  7.72462951e-01,\n",
       "       -4.70270398e-01,  5.40693492e-01, -6.06741045e-02,  6.51234223e-01,\n",
       "        2.84912474e-01,  2.47267031e-01, -1.31959262e+00, -1.97266296e+00,\n",
       "       -7.63559666e-01, -1.18469088e-01, -4.18650559e-01, -2.83414371e-01,\n",
       "       -1.05750089e+00,  1.65611112e-02, -8.29203302e-01,  3.13118539e+00,\n",
       "        3.32840917e-01, -1.09324524e+00,  1.73706932e-01, -7.22006041e-01,\n",
       "        4.51076926e-01, -2.32059931e-01,  5.57640287e-02,  2.04700099e+00,\n",
       "        3.19908113e+00,  2.34151293e+00,  8.08981408e-02,  8.16793602e-01,\n",
       "       -2.85283350e-01, -1.29274835e+00,  2.06790972e+00, -1.34854212e+00,\n",
       "        5.81380543e-01, -2.31775758e+00, -2.83933570e-01,  4.72097619e-02,\n",
       "       -2.07109416e+00,  2.28063420e+00,  2.69414413e+00,  2.52883774e-01,\n",
       "        3.53807191e-01, -4.63853962e-01, -4.17350884e+00, -1.03101890e+00,\n",
       "       -2.05973421e-01, -9.30435265e-01, -1.10784177e+00,  1.19084942e+00,\n",
       "        1.65350342e+00, -1.02638762e+00, -2.71977550e+00,  8.89454313e-01,\n",
       "       -7.31433685e-01, -6.73940110e-01,  1.25237807e-01, -1.42265071e+00,\n",
       "       -1.46942156e+00, -4.75924230e-01, -1.74079920e+00,  9.05550135e-01,\n",
       "       -3.00102750e-01,  1.19665006e+00,  4.20303499e-01, -6.30727733e-01,\n",
       "       -3.26937335e+00, -3.17339187e+00, -2.30028510e+00,  2.98147482e+00,\n",
       "        2.11857117e+00, -6.33316512e-01, -4.44788416e-01,  8.73554380e-01,\n",
       "        1.83633411e+00,  1.83665129e+00, -2.62947384e+00, -8.04156669e-01,\n",
       "       -2.58172201e-01,  1.81960336e+00,  1.24404017e+00, -2.33347187e+00,\n",
       "        1.31224250e+00,  1.89024897e+00, -1.97480993e+00,  2.14343658e+00,\n",
       "        3.63201554e+00,  1.68831743e+00, -1.06320570e+00, -9.04867297e-01,\n",
       "        3.77585928e-01,  1.69033721e+00, -9.74511164e-01,  1.42484712e+00,\n",
       "        1.56871172e+00, -6.76029576e+00,  9.75907959e-01, -1.87786286e+00,\n",
       "       -3.31720022e+00, -4.28680337e-01,  4.09431681e+00, -3.20583647e-01,\n",
       "       -5.78341771e-01, -2.20451141e+00,  1.00459703e+00,  3.28234867e+00,\n",
       "        8.78258378e-01, -4.24172595e-01,  9.51337113e-01, -5.17388402e-01,\n",
       "       -1.42706335e+00, -4.36152002e+00, -2.57320279e+00,  6.41272338e-01,\n",
       "        2.74516251e+00, -1.03856325e+00,  1.58719379e+00,  4.04506317e-01,\n",
       "       -2.08769202e+00, -9.14650829e-01,  5.13709863e-01,  5.07483080e-01,\n",
       "        2.65611216e+00,  2.88048880e-01, -1.46784209e+00, -3.34475592e+00,\n",
       "       -3.51666329e+00,  8.24405023e-01,  5.53608123e+00,  7.00792563e-01,\n",
       "       -1.31422170e+00, -2.85149659e+00, -7.29922018e-01,  2.64658598e-01,\n",
       "       -6.97182985e-01,  3.21233482e+00,  3.65824326e+00,  1.77930671e+00,\n",
       "       -3.23035825e+00,  6.89664653e-01,  1.65859672e+00,  3.30622639e+00])"
      ]
     },
     "execution_count": 23,
     "metadata": {},
     "output_type": "execute_result"
    }
   ],
   "source": [
    "import numpy as np\n",
    "from scipy.stats import kurtosis, skew\n",
    "# create random values based on a normal distribution\n",
    "x = np.random.normal(0, 2, 1000)   \n",
    "x"
   ]
  },
  {
   "cell_type": "code",
   "execution_count": 24,
   "metadata": {},
   "outputs": [
    {
     "data": {
      "text/plain": [
       "0.0933357665115323"
      ]
     },
     "execution_count": 24,
     "metadata": {},
     "output_type": "execute_result"
    }
   ],
   "source": [
    "skew(x)"
   ]
  },
  {
   "cell_type": "code",
   "execution_count": 25,
   "metadata": {},
   "outputs": [
    {
     "data": {
      "text/plain": [
       "-0.09526910421499624"
      ]
     },
     "execution_count": 25,
     "metadata": {},
     "output_type": "execute_result"
    }
   ],
   "source": [
    "kurtosis(x)"
   ]
  },
  {
   "cell_type": "markdown",
   "metadata": {},
   "source": [
    "Dataframe"
   ]
  },
  {
   "cell_type": "code",
   "execution_count": 26,
   "metadata": {},
   "outputs": [
    {
     "ename": "URLError",
     "evalue": "<urlopen error [Errno 11001] getaddrinfo failed>",
     "output_type": "error",
     "traceback": [
      "\u001b[1;31m---------------------------------------------------------------------------\u001b[0m",
      "\u001b[1;31mgaierror\u001b[0m                                  Traceback (most recent call last)",
      "\u001b[1;32mC:\\ProgramData\\Anaconda3\\lib\\urllib\\request.py\u001b[0m in \u001b[0;36mdo_open\u001b[1;34m(self, http_class, req, **http_conn_args)\u001b[0m\n\u001b[0;32m   1349\u001b[0m             \u001b[1;32mtry\u001b[0m\u001b[1;33m:\u001b[0m\u001b[1;33m\u001b[0m\u001b[1;33m\u001b[0m\u001b[0m\n\u001b[1;32m-> 1350\u001b[1;33m                 h.request(req.get_method(), req.selector, req.data, headers,\n\u001b[0m\u001b[0;32m   1351\u001b[0m                           encode_chunked=req.has_header('Transfer-encoding'))\n",
      "\u001b[1;32mC:\\ProgramData\\Anaconda3\\lib\\http\\client.py\u001b[0m in \u001b[0;36mrequest\u001b[1;34m(self, method, url, body, headers, encode_chunked)\u001b[0m\n\u001b[0;32m   1254\u001b[0m         \u001b[1;34m\"\"\"Send a complete request to the server.\"\"\"\u001b[0m\u001b[1;33m\u001b[0m\u001b[1;33m\u001b[0m\u001b[0m\n\u001b[1;32m-> 1255\u001b[1;33m         \u001b[0mself\u001b[0m\u001b[1;33m.\u001b[0m\u001b[0m_send_request\u001b[0m\u001b[1;33m(\u001b[0m\u001b[0mmethod\u001b[0m\u001b[1;33m,\u001b[0m \u001b[0murl\u001b[0m\u001b[1;33m,\u001b[0m \u001b[0mbody\u001b[0m\u001b[1;33m,\u001b[0m \u001b[0mheaders\u001b[0m\u001b[1;33m,\u001b[0m \u001b[0mencode_chunked\u001b[0m\u001b[1;33m)\u001b[0m\u001b[1;33m\u001b[0m\u001b[1;33m\u001b[0m\u001b[0m\n\u001b[0m\u001b[0;32m   1256\u001b[0m \u001b[1;33m\u001b[0m\u001b[0m\n",
      "\u001b[1;32mC:\\ProgramData\\Anaconda3\\lib\\http\\client.py\u001b[0m in \u001b[0;36m_send_request\u001b[1;34m(self, method, url, body, headers, encode_chunked)\u001b[0m\n\u001b[0;32m   1300\u001b[0m             \u001b[0mbody\u001b[0m \u001b[1;33m=\u001b[0m \u001b[0m_encode\u001b[0m\u001b[1;33m(\u001b[0m\u001b[0mbody\u001b[0m\u001b[1;33m,\u001b[0m \u001b[1;34m'body'\u001b[0m\u001b[1;33m)\u001b[0m\u001b[1;33m\u001b[0m\u001b[1;33m\u001b[0m\u001b[0m\n\u001b[1;32m-> 1301\u001b[1;33m         \u001b[0mself\u001b[0m\u001b[1;33m.\u001b[0m\u001b[0mendheaders\u001b[0m\u001b[1;33m(\u001b[0m\u001b[0mbody\u001b[0m\u001b[1;33m,\u001b[0m \u001b[0mencode_chunked\u001b[0m\u001b[1;33m=\u001b[0m\u001b[0mencode_chunked\u001b[0m\u001b[1;33m)\u001b[0m\u001b[1;33m\u001b[0m\u001b[1;33m\u001b[0m\u001b[0m\n\u001b[0m\u001b[0;32m   1302\u001b[0m \u001b[1;33m\u001b[0m\u001b[0m\n",
      "\u001b[1;32mC:\\ProgramData\\Anaconda3\\lib\\http\\client.py\u001b[0m in \u001b[0;36mendheaders\u001b[1;34m(self, message_body, encode_chunked)\u001b[0m\n\u001b[0;32m   1249\u001b[0m             \u001b[1;32mraise\u001b[0m \u001b[0mCannotSendHeader\u001b[0m\u001b[1;33m(\u001b[0m\u001b[1;33m)\u001b[0m\u001b[1;33m\u001b[0m\u001b[1;33m\u001b[0m\u001b[0m\n\u001b[1;32m-> 1250\u001b[1;33m         \u001b[0mself\u001b[0m\u001b[1;33m.\u001b[0m\u001b[0m_send_output\u001b[0m\u001b[1;33m(\u001b[0m\u001b[0mmessage_body\u001b[0m\u001b[1;33m,\u001b[0m \u001b[0mencode_chunked\u001b[0m\u001b[1;33m=\u001b[0m\u001b[0mencode_chunked\u001b[0m\u001b[1;33m)\u001b[0m\u001b[1;33m\u001b[0m\u001b[1;33m\u001b[0m\u001b[0m\n\u001b[0m\u001b[0;32m   1251\u001b[0m \u001b[1;33m\u001b[0m\u001b[0m\n",
      "\u001b[1;32mC:\\ProgramData\\Anaconda3\\lib\\http\\client.py\u001b[0m in \u001b[0;36m_send_output\u001b[1;34m(self, message_body, encode_chunked)\u001b[0m\n\u001b[0;32m   1009\u001b[0m         \u001b[1;32mdel\u001b[0m \u001b[0mself\u001b[0m\u001b[1;33m.\u001b[0m\u001b[0m_buffer\u001b[0m\u001b[1;33m[\u001b[0m\u001b[1;33m:\u001b[0m\u001b[1;33m]\u001b[0m\u001b[1;33m\u001b[0m\u001b[1;33m\u001b[0m\u001b[0m\n\u001b[1;32m-> 1010\u001b[1;33m         \u001b[0mself\u001b[0m\u001b[1;33m.\u001b[0m\u001b[0msend\u001b[0m\u001b[1;33m(\u001b[0m\u001b[0mmsg\u001b[0m\u001b[1;33m)\u001b[0m\u001b[1;33m\u001b[0m\u001b[1;33m\u001b[0m\u001b[0m\n\u001b[0m\u001b[0;32m   1011\u001b[0m \u001b[1;33m\u001b[0m\u001b[0m\n",
      "\u001b[1;32mC:\\ProgramData\\Anaconda3\\lib\\http\\client.py\u001b[0m in \u001b[0;36msend\u001b[1;34m(self, data)\u001b[0m\n\u001b[0;32m    949\u001b[0m             \u001b[1;32mif\u001b[0m \u001b[0mself\u001b[0m\u001b[1;33m.\u001b[0m\u001b[0mauto_open\u001b[0m\u001b[1;33m:\u001b[0m\u001b[1;33m\u001b[0m\u001b[1;33m\u001b[0m\u001b[0m\n\u001b[1;32m--> 950\u001b[1;33m                 \u001b[0mself\u001b[0m\u001b[1;33m.\u001b[0m\u001b[0mconnect\u001b[0m\u001b[1;33m(\u001b[0m\u001b[1;33m)\u001b[0m\u001b[1;33m\u001b[0m\u001b[1;33m\u001b[0m\u001b[0m\n\u001b[0m\u001b[0;32m    951\u001b[0m             \u001b[1;32melse\u001b[0m\u001b[1;33m:\u001b[0m\u001b[1;33m\u001b[0m\u001b[1;33m\u001b[0m\u001b[0m\n",
      "\u001b[1;32mC:\\ProgramData\\Anaconda3\\lib\\http\\client.py\u001b[0m in \u001b[0;36mconnect\u001b[1;34m(self)\u001b[0m\n\u001b[0;32m   1416\u001b[0m \u001b[1;33m\u001b[0m\u001b[0m\n\u001b[1;32m-> 1417\u001b[1;33m             \u001b[0msuper\u001b[0m\u001b[1;33m(\u001b[0m\u001b[1;33m)\u001b[0m\u001b[1;33m.\u001b[0m\u001b[0mconnect\u001b[0m\u001b[1;33m(\u001b[0m\u001b[1;33m)\u001b[0m\u001b[1;33m\u001b[0m\u001b[1;33m\u001b[0m\u001b[0m\n\u001b[0m\u001b[0;32m   1418\u001b[0m \u001b[1;33m\u001b[0m\u001b[0m\n",
      "\u001b[1;32mC:\\ProgramData\\Anaconda3\\lib\\http\\client.py\u001b[0m in \u001b[0;36mconnect\u001b[1;34m(self)\u001b[0m\n\u001b[0;32m    920\u001b[0m         \u001b[1;34m\"\"\"Connect to the host and port specified in __init__.\"\"\"\u001b[0m\u001b[1;33m\u001b[0m\u001b[1;33m\u001b[0m\u001b[0m\n\u001b[1;32m--> 921\u001b[1;33m         self.sock = self._create_connection(\n\u001b[0m\u001b[0;32m    922\u001b[0m             (self.host,self.port), self.timeout, self.source_address)\n",
      "\u001b[1;32mC:\\ProgramData\\Anaconda3\\lib\\socket.py\u001b[0m in \u001b[0;36mcreate_connection\u001b[1;34m(address, timeout, source_address)\u001b[0m\n\u001b[0;32m    786\u001b[0m     \u001b[0merr\u001b[0m \u001b[1;33m=\u001b[0m \u001b[1;32mNone\u001b[0m\u001b[1;33m\u001b[0m\u001b[1;33m\u001b[0m\u001b[0m\n\u001b[1;32m--> 787\u001b[1;33m     \u001b[1;32mfor\u001b[0m \u001b[0mres\u001b[0m \u001b[1;32min\u001b[0m \u001b[0mgetaddrinfo\u001b[0m\u001b[1;33m(\u001b[0m\u001b[0mhost\u001b[0m\u001b[1;33m,\u001b[0m \u001b[0mport\u001b[0m\u001b[1;33m,\u001b[0m \u001b[1;36m0\u001b[0m\u001b[1;33m,\u001b[0m \u001b[0mSOCK_STREAM\u001b[0m\u001b[1;33m)\u001b[0m\u001b[1;33m:\u001b[0m\u001b[1;33m\u001b[0m\u001b[1;33m\u001b[0m\u001b[0m\n\u001b[0m\u001b[0;32m    788\u001b[0m         \u001b[0maf\u001b[0m\u001b[1;33m,\u001b[0m \u001b[0msocktype\u001b[0m\u001b[1;33m,\u001b[0m \u001b[0mproto\u001b[0m\u001b[1;33m,\u001b[0m \u001b[0mcanonname\u001b[0m\u001b[1;33m,\u001b[0m \u001b[0msa\u001b[0m \u001b[1;33m=\u001b[0m \u001b[0mres\u001b[0m\u001b[1;33m\u001b[0m\u001b[1;33m\u001b[0m\u001b[0m\n",
      "\u001b[1;32mC:\\ProgramData\\Anaconda3\\lib\\socket.py\u001b[0m in \u001b[0;36mgetaddrinfo\u001b[1;34m(host, port, family, type, proto, flags)\u001b[0m\n\u001b[0;32m    917\u001b[0m     \u001b[0maddrlist\u001b[0m \u001b[1;33m=\u001b[0m \u001b[1;33m[\u001b[0m\u001b[1;33m]\u001b[0m\u001b[1;33m\u001b[0m\u001b[1;33m\u001b[0m\u001b[0m\n\u001b[1;32m--> 918\u001b[1;33m     \u001b[1;32mfor\u001b[0m \u001b[0mres\u001b[0m \u001b[1;32min\u001b[0m \u001b[0m_socket\u001b[0m\u001b[1;33m.\u001b[0m\u001b[0mgetaddrinfo\u001b[0m\u001b[1;33m(\u001b[0m\u001b[0mhost\u001b[0m\u001b[1;33m,\u001b[0m \u001b[0mport\u001b[0m\u001b[1;33m,\u001b[0m \u001b[0mfamily\u001b[0m\u001b[1;33m,\u001b[0m \u001b[0mtype\u001b[0m\u001b[1;33m,\u001b[0m \u001b[0mproto\u001b[0m\u001b[1;33m,\u001b[0m \u001b[0mflags\u001b[0m\u001b[1;33m)\u001b[0m\u001b[1;33m:\u001b[0m\u001b[1;33m\u001b[0m\u001b[1;33m\u001b[0m\u001b[0m\n\u001b[0m\u001b[0;32m    919\u001b[0m         \u001b[0maf\u001b[0m\u001b[1;33m,\u001b[0m \u001b[0msocktype\u001b[0m\u001b[1;33m,\u001b[0m \u001b[0mproto\u001b[0m\u001b[1;33m,\u001b[0m \u001b[0mcanonname\u001b[0m\u001b[1;33m,\u001b[0m \u001b[0msa\u001b[0m \u001b[1;33m=\u001b[0m \u001b[0mres\u001b[0m\u001b[1;33m\u001b[0m\u001b[1;33m\u001b[0m\u001b[0m\n",
      "\u001b[1;31mgaierror\u001b[0m: [Errno 11001] getaddrinfo failed",
      "\nDuring handling of the above exception, another exception occurred:\n",
      "\u001b[1;31mURLError\u001b[0m                                  Traceback (most recent call last)",
      "\u001b[1;32m<ipython-input-26-642a560353e5>\u001b[0m in \u001b[0;36m<module>\u001b[1;34m\u001b[0m\n\u001b[1;32m----> 1\u001b[1;33m \u001b[0mdf1\u001b[0m\u001b[1;33m=\u001b[0m\u001b[0msns\u001b[0m\u001b[1;33m.\u001b[0m\u001b[0mload_dataset\u001b[0m\u001b[1;33m(\u001b[0m\u001b[1;34m'iris'\u001b[0m\u001b[1;33m)\u001b[0m\u001b[1;33m\u001b[0m\u001b[1;33m\u001b[0m\u001b[0m\n\u001b[0m\u001b[0;32m      2\u001b[0m \u001b[0mdf1\u001b[0m\u001b[1;33m.\u001b[0m\u001b[0mhead\u001b[0m\u001b[1;33m(\u001b[0m\u001b[1;33m)\u001b[0m\u001b[1;33m\u001b[0m\u001b[1;33m\u001b[0m\u001b[0m\n",
      "\u001b[1;32mC:\\ProgramData\\Anaconda3\\lib\\site-packages\\seaborn\\utils.py\u001b[0m in \u001b[0;36mload_dataset\u001b[1;34m(name, cache, data_home, **kws)\u001b[0m\n\u001b[0;32m    483\u001b[0m                                   os.path.basename(full_path))\n\u001b[0;32m    484\u001b[0m         \u001b[1;32mif\u001b[0m \u001b[1;32mnot\u001b[0m \u001b[0mos\u001b[0m\u001b[1;33m.\u001b[0m\u001b[0mpath\u001b[0m\u001b[1;33m.\u001b[0m\u001b[0mexists\u001b[0m\u001b[1;33m(\u001b[0m\u001b[0mcache_path\u001b[0m\u001b[1;33m)\u001b[0m\u001b[1;33m:\u001b[0m\u001b[1;33m\u001b[0m\u001b[1;33m\u001b[0m\u001b[0m\n\u001b[1;32m--> 485\u001b[1;33m             \u001b[1;32mif\u001b[0m \u001b[0mname\u001b[0m \u001b[1;32mnot\u001b[0m \u001b[1;32min\u001b[0m \u001b[0mget_dataset_names\u001b[0m\u001b[1;33m(\u001b[0m\u001b[1;33m)\u001b[0m\u001b[1;33m:\u001b[0m\u001b[1;33m\u001b[0m\u001b[1;33m\u001b[0m\u001b[0m\n\u001b[0m\u001b[0;32m    486\u001b[0m                 \u001b[1;32mraise\u001b[0m \u001b[0mValueError\u001b[0m\u001b[1;33m(\u001b[0m\u001b[1;34mf\"'{name}' is not one of the example datasets.\"\u001b[0m\u001b[1;33m)\u001b[0m\u001b[1;33m\u001b[0m\u001b[1;33m\u001b[0m\u001b[0m\n\u001b[0;32m    487\u001b[0m             \u001b[0murlretrieve\u001b[0m\u001b[1;33m(\u001b[0m\u001b[0mfull_path\u001b[0m\u001b[1;33m,\u001b[0m \u001b[0mcache_path\u001b[0m\u001b[1;33m)\u001b[0m\u001b[1;33m\u001b[0m\u001b[1;33m\u001b[0m\u001b[0m\n",
      "\u001b[1;32mC:\\ProgramData\\Anaconda3\\lib\\site-packages\\seaborn\\utils.py\u001b[0m in \u001b[0;36mget_dataset_names\u001b[1;34m()\u001b[0m\n\u001b[0;32m    417\u001b[0m     \"\"\"\n\u001b[0;32m    418\u001b[0m     \u001b[0murl\u001b[0m \u001b[1;33m=\u001b[0m \u001b[1;34m\"https://github.com/mwaskom/seaborn-data\"\u001b[0m\u001b[1;33m\u001b[0m\u001b[1;33m\u001b[0m\u001b[0m\n\u001b[1;32m--> 419\u001b[1;33m     \u001b[1;32mwith\u001b[0m \u001b[0murlopen\u001b[0m\u001b[1;33m(\u001b[0m\u001b[0murl\u001b[0m\u001b[1;33m)\u001b[0m \u001b[1;32mas\u001b[0m \u001b[0mresp\u001b[0m\u001b[1;33m:\u001b[0m\u001b[1;33m\u001b[0m\u001b[1;33m\u001b[0m\u001b[0m\n\u001b[0m\u001b[0;32m    420\u001b[0m         \u001b[0mhtml\u001b[0m \u001b[1;33m=\u001b[0m \u001b[0mresp\u001b[0m\u001b[1;33m.\u001b[0m\u001b[0mread\u001b[0m\u001b[1;33m(\u001b[0m\u001b[1;33m)\u001b[0m\u001b[1;33m\u001b[0m\u001b[1;33m\u001b[0m\u001b[0m\n\u001b[0;32m    421\u001b[0m \u001b[1;33m\u001b[0m\u001b[0m\n",
      "\u001b[1;32mC:\\ProgramData\\Anaconda3\\lib\\urllib\\request.py\u001b[0m in \u001b[0;36murlopen\u001b[1;34m(url, data, timeout, cafile, capath, cadefault, context)\u001b[0m\n\u001b[0;32m    220\u001b[0m     \u001b[1;32melse\u001b[0m\u001b[1;33m:\u001b[0m\u001b[1;33m\u001b[0m\u001b[1;33m\u001b[0m\u001b[0m\n\u001b[0;32m    221\u001b[0m         \u001b[0mopener\u001b[0m \u001b[1;33m=\u001b[0m \u001b[0m_opener\u001b[0m\u001b[1;33m\u001b[0m\u001b[1;33m\u001b[0m\u001b[0m\n\u001b[1;32m--> 222\u001b[1;33m     \u001b[1;32mreturn\u001b[0m \u001b[0mopener\u001b[0m\u001b[1;33m.\u001b[0m\u001b[0mopen\u001b[0m\u001b[1;33m(\u001b[0m\u001b[0murl\u001b[0m\u001b[1;33m,\u001b[0m \u001b[0mdata\u001b[0m\u001b[1;33m,\u001b[0m \u001b[0mtimeout\u001b[0m\u001b[1;33m)\u001b[0m\u001b[1;33m\u001b[0m\u001b[1;33m\u001b[0m\u001b[0m\n\u001b[0m\u001b[0;32m    223\u001b[0m \u001b[1;33m\u001b[0m\u001b[0m\n\u001b[0;32m    224\u001b[0m \u001b[1;32mdef\u001b[0m \u001b[0minstall_opener\u001b[0m\u001b[1;33m(\u001b[0m\u001b[0mopener\u001b[0m\u001b[1;33m)\u001b[0m\u001b[1;33m:\u001b[0m\u001b[1;33m\u001b[0m\u001b[1;33m\u001b[0m\u001b[0m\n",
      "\u001b[1;32mC:\\ProgramData\\Anaconda3\\lib\\urllib\\request.py\u001b[0m in \u001b[0;36mopen\u001b[1;34m(self, fullurl, data, timeout)\u001b[0m\n\u001b[0;32m    523\u001b[0m \u001b[1;33m\u001b[0m\u001b[0m\n\u001b[0;32m    524\u001b[0m         \u001b[0msys\u001b[0m\u001b[1;33m.\u001b[0m\u001b[0maudit\u001b[0m\u001b[1;33m(\u001b[0m\u001b[1;34m'urllib.Request'\u001b[0m\u001b[1;33m,\u001b[0m \u001b[0mreq\u001b[0m\u001b[1;33m.\u001b[0m\u001b[0mfull_url\u001b[0m\u001b[1;33m,\u001b[0m \u001b[0mreq\u001b[0m\u001b[1;33m.\u001b[0m\u001b[0mdata\u001b[0m\u001b[1;33m,\u001b[0m \u001b[0mreq\u001b[0m\u001b[1;33m.\u001b[0m\u001b[0mheaders\u001b[0m\u001b[1;33m,\u001b[0m \u001b[0mreq\u001b[0m\u001b[1;33m.\u001b[0m\u001b[0mget_method\u001b[0m\u001b[1;33m(\u001b[0m\u001b[1;33m)\u001b[0m\u001b[1;33m)\u001b[0m\u001b[1;33m\u001b[0m\u001b[1;33m\u001b[0m\u001b[0m\n\u001b[1;32m--> 525\u001b[1;33m         \u001b[0mresponse\u001b[0m \u001b[1;33m=\u001b[0m \u001b[0mself\u001b[0m\u001b[1;33m.\u001b[0m\u001b[0m_open\u001b[0m\u001b[1;33m(\u001b[0m\u001b[0mreq\u001b[0m\u001b[1;33m,\u001b[0m \u001b[0mdata\u001b[0m\u001b[1;33m)\u001b[0m\u001b[1;33m\u001b[0m\u001b[1;33m\u001b[0m\u001b[0m\n\u001b[0m\u001b[0;32m    526\u001b[0m \u001b[1;33m\u001b[0m\u001b[0m\n\u001b[0;32m    527\u001b[0m         \u001b[1;31m# post-process response\u001b[0m\u001b[1;33m\u001b[0m\u001b[1;33m\u001b[0m\u001b[1;33m\u001b[0m\u001b[0m\n",
      "\u001b[1;32mC:\\ProgramData\\Anaconda3\\lib\\urllib\\request.py\u001b[0m in \u001b[0;36m_open\u001b[1;34m(self, req, data)\u001b[0m\n\u001b[0;32m    540\u001b[0m \u001b[1;33m\u001b[0m\u001b[0m\n\u001b[0;32m    541\u001b[0m         \u001b[0mprotocol\u001b[0m \u001b[1;33m=\u001b[0m \u001b[0mreq\u001b[0m\u001b[1;33m.\u001b[0m\u001b[0mtype\u001b[0m\u001b[1;33m\u001b[0m\u001b[1;33m\u001b[0m\u001b[0m\n\u001b[1;32m--> 542\u001b[1;33m         result = self._call_chain(self.handle_open, protocol, protocol +\n\u001b[0m\u001b[0;32m    543\u001b[0m                                   '_open', req)\n\u001b[0;32m    544\u001b[0m         \u001b[1;32mif\u001b[0m \u001b[0mresult\u001b[0m\u001b[1;33m:\u001b[0m\u001b[1;33m\u001b[0m\u001b[1;33m\u001b[0m\u001b[0m\n",
      "\u001b[1;32mC:\\ProgramData\\Anaconda3\\lib\\urllib\\request.py\u001b[0m in \u001b[0;36m_call_chain\u001b[1;34m(self, chain, kind, meth_name, *args)\u001b[0m\n\u001b[0;32m    500\u001b[0m         \u001b[1;32mfor\u001b[0m \u001b[0mhandler\u001b[0m \u001b[1;32min\u001b[0m \u001b[0mhandlers\u001b[0m\u001b[1;33m:\u001b[0m\u001b[1;33m\u001b[0m\u001b[1;33m\u001b[0m\u001b[0m\n\u001b[0;32m    501\u001b[0m             \u001b[0mfunc\u001b[0m \u001b[1;33m=\u001b[0m \u001b[0mgetattr\u001b[0m\u001b[1;33m(\u001b[0m\u001b[0mhandler\u001b[0m\u001b[1;33m,\u001b[0m \u001b[0mmeth_name\u001b[0m\u001b[1;33m)\u001b[0m\u001b[1;33m\u001b[0m\u001b[1;33m\u001b[0m\u001b[0m\n\u001b[1;32m--> 502\u001b[1;33m             \u001b[0mresult\u001b[0m \u001b[1;33m=\u001b[0m \u001b[0mfunc\u001b[0m\u001b[1;33m(\u001b[0m\u001b[1;33m*\u001b[0m\u001b[0margs\u001b[0m\u001b[1;33m)\u001b[0m\u001b[1;33m\u001b[0m\u001b[1;33m\u001b[0m\u001b[0m\n\u001b[0m\u001b[0;32m    503\u001b[0m             \u001b[1;32mif\u001b[0m \u001b[0mresult\u001b[0m \u001b[1;32mis\u001b[0m \u001b[1;32mnot\u001b[0m \u001b[1;32mNone\u001b[0m\u001b[1;33m:\u001b[0m\u001b[1;33m\u001b[0m\u001b[1;33m\u001b[0m\u001b[0m\n\u001b[0;32m    504\u001b[0m                 \u001b[1;32mreturn\u001b[0m \u001b[0mresult\u001b[0m\u001b[1;33m\u001b[0m\u001b[1;33m\u001b[0m\u001b[0m\n",
      "\u001b[1;32mC:\\ProgramData\\Anaconda3\\lib\\urllib\\request.py\u001b[0m in \u001b[0;36mhttps_open\u001b[1;34m(self, req)\u001b[0m\n\u001b[0;32m   1391\u001b[0m \u001b[1;33m\u001b[0m\u001b[0m\n\u001b[0;32m   1392\u001b[0m         \u001b[1;32mdef\u001b[0m \u001b[0mhttps_open\u001b[0m\u001b[1;33m(\u001b[0m\u001b[0mself\u001b[0m\u001b[1;33m,\u001b[0m \u001b[0mreq\u001b[0m\u001b[1;33m)\u001b[0m\u001b[1;33m:\u001b[0m\u001b[1;33m\u001b[0m\u001b[1;33m\u001b[0m\u001b[0m\n\u001b[1;32m-> 1393\u001b[1;33m             return self.do_open(http.client.HTTPSConnection, req,\n\u001b[0m\u001b[0;32m   1394\u001b[0m                 context=self._context, check_hostname=self._check_hostname)\n\u001b[0;32m   1395\u001b[0m \u001b[1;33m\u001b[0m\u001b[0m\n",
      "\u001b[1;32mC:\\ProgramData\\Anaconda3\\lib\\urllib\\request.py\u001b[0m in \u001b[0;36mdo_open\u001b[1;34m(self, http_class, req, **http_conn_args)\u001b[0m\n\u001b[0;32m   1351\u001b[0m                           encode_chunked=req.has_header('Transfer-encoding'))\n\u001b[0;32m   1352\u001b[0m             \u001b[1;32mexcept\u001b[0m \u001b[0mOSError\u001b[0m \u001b[1;32mas\u001b[0m \u001b[0merr\u001b[0m\u001b[1;33m:\u001b[0m \u001b[1;31m# timeout error\u001b[0m\u001b[1;33m\u001b[0m\u001b[1;33m\u001b[0m\u001b[0m\n\u001b[1;32m-> 1353\u001b[1;33m                 \u001b[1;32mraise\u001b[0m \u001b[0mURLError\u001b[0m\u001b[1;33m(\u001b[0m\u001b[0merr\u001b[0m\u001b[1;33m)\u001b[0m\u001b[1;33m\u001b[0m\u001b[1;33m\u001b[0m\u001b[0m\n\u001b[0m\u001b[0;32m   1354\u001b[0m             \u001b[0mr\u001b[0m \u001b[1;33m=\u001b[0m \u001b[0mh\u001b[0m\u001b[1;33m.\u001b[0m\u001b[0mgetresponse\u001b[0m\u001b[1;33m(\u001b[0m\u001b[1;33m)\u001b[0m\u001b[1;33m\u001b[0m\u001b[1;33m\u001b[0m\u001b[0m\n\u001b[0;32m   1355\u001b[0m         \u001b[1;32mexcept\u001b[0m\u001b[1;33m:\u001b[0m\u001b[1;33m\u001b[0m\u001b[1;33m\u001b[0m\u001b[0m\n",
      "\u001b[1;31mURLError\u001b[0m: <urlopen error [Errno 11001] getaddrinfo failed>"
     ]
    }
   ],
   "source": [
    "df1=sns.load_dataset('iris')\n",
    "df1.head()"
   ]
  },
  {
   "cell_type": "code",
   "execution_count": null,
   "metadata": {},
   "outputs": [],
   "source": [
    "df1.shape"
   ]
  },
  {
   "cell_type": "code",
   "execution_count": null,
   "metadata": {},
   "outputs": [],
   "source": [
    "df1.isnull().sum()"
   ]
  },
  {
   "cell_type": "code",
   "execution_count": 27,
   "metadata": {},
   "outputs": [],
   "source": [
    "#df1_setosa=df1.loc[df1['species']=='setosa']\n",
    "#df1_setosa                          "
   ]
  },
  {
   "cell_type": "code",
   "execution_count": null,
   "metadata": {},
   "outputs": [],
   "source": [
    "#df1_virginica=df1.loc[df1['species']=='virginica']\n",
    "#df1_virginica                          "
   ]
  },
  {
   "cell_type": "code",
   "execution_count": null,
   "metadata": {},
   "outputs": [],
   "source": [
    "#df1_versicolor=df1.loc[df1['species']=='versicolor']\n",
    "#df1_versicolor                          "
   ]
  },
  {
   "cell_type": "code",
   "execution_count": null,
   "metadata": {},
   "outputs": [],
   "source": [
    "df1_versicolor=df1.loc[df1['species']=='versicolor']\n",
    "df1_versicolor                          "
   ]
  },
  {
   "cell_type": "code",
   "execution_count": null,
   "metadata": {},
   "outputs": [],
   "source": [
    "df1_versicolor.mean(axis=0)"
   ]
  },
  {
   "cell_type": "code",
   "execution_count": null,
   "metadata": {},
   "outputs": [],
   "source": [
    "#df1.mean(axis=0,skipna=True)"
   ]
  },
  {
   "cell_type": "code",
   "execution_count": null,
   "metadata": {},
   "outputs": [],
   "source": [
    "#df1.mean(axis=1,skipna=True)"
   ]
  },
  {
   "cell_type": "code",
   "execution_count": null,
   "metadata": {},
   "outputs": [],
   "source": [
    "df1.median(axis=0)"
   ]
  },
  {
   "cell_type": "code",
   "execution_count": null,
   "metadata": {},
   "outputs": [],
   "source": [
    "#df1.mode(axis=0)"
   ]
  },
  {
   "cell_type": "code",
   "execution_count": null,
   "metadata": {},
   "outputs": [],
   "source": [
    "df1.max()"
   ]
  },
  {
   "cell_type": "code",
   "execution_count": null,
   "metadata": {},
   "outputs": [],
   "source": [
    "df1.min()"
   ]
  },
  {
   "cell_type": "markdown",
   "metadata": {},
   "source": [
    "Correlation"
   ]
  },
  {
   "cell_type": "code",
   "execution_count": null,
   "metadata": {},
   "outputs": [],
   "source": [
    "np.corrcoef(df1['petal_length'],df1['sepal_length'])"
   ]
  },
  {
   "cell_type": "code",
   "execution_count": null,
   "metadata": {},
   "outputs": [],
   "source": [
    "sns.scatterplot(df1['petal_length'],df1['sepal_length'])"
   ]
  },
  {
   "cell_type": "code",
   "execution_count": null,
   "metadata": {},
   "outputs": [],
   "source": [
    "df1.corr()"
   ]
  },
  {
   "cell_type": "code",
   "execution_count": null,
   "metadata": {},
   "outputs": [],
   "source": [
    "sns.pairplot(df1)"
   ]
  },
  {
   "cell_type": "code",
   "execution_count": null,
   "metadata": {},
   "outputs": [],
   "source": [
    "sns.heatmap(df1.corr())"
   ]
  },
  {
   "cell_type": "code",
   "execution_count": null,
   "metadata": {},
   "outputs": [],
   "source": [
    "df1['petal_length'].skew()#Between -0.5 & +0.5 --> Low Skew"
   ]
  },
  {
   "cell_type": "code",
   "execution_count": null,
   "metadata": {},
   "outputs": [],
   "source": [
    "df1['sepal_length'].skew() #Low Skew"
   ]
  },
  {
   "cell_type": "code",
   "execution_count": null,
   "metadata": {},
   "outputs": [],
   "source": [
    "df1['sepal_length'].kurtosis() #<3 platykurtic"
   ]
  },
  {
   "cell_type": "code",
   "execution_count": null,
   "metadata": {},
   "outputs": [],
   "source": [
    "df1['petal_length'].kurtosis()#<3 platykurtic"
   ]
  },
  {
   "cell_type": "code",
   "execution_count": null,
   "metadata": {},
   "outputs": [],
   "source": [
    "sns.distplot(df1.petal_length,kde=False)"
   ]
  },
  {
   "cell_type": "code",
   "execution_count": null,
   "metadata": {},
   "outputs": [],
   "source": [
    "sns.distplot(df1.sepal_length,kde=True)"
   ]
  },
  {
   "cell_type": "code",
   "execution_count": null,
   "metadata": {},
   "outputs": [],
   "source": [
    "sns.boxplot(df1.petal_length)"
   ]
  },
  {
   "cell_type": "markdown",
   "metadata": {},
   "source": [
    "Population & Sample"
   ]
  },
  {
   "cell_type": "code",
   "execution_count": null,
   "metadata": {},
   "outputs": [],
   "source": [
    "p=np.random.randint(10,20,100)\n",
    "p"
   ]
  },
  {
   "cell_type": "code",
   "execution_count": null,
   "metadata": {},
   "outputs": [],
   "source": [
    "np.mean(p)"
   ]
  },
  {
   "cell_type": "code",
   "execution_count": null,
   "metadata": {},
   "outputs": [],
   "source": [
    "sample=np.random.choice(p,20)\n",
    "sample"
   ]
  },
  {
   "cell_type": "code",
   "execution_count": null,
   "metadata": {},
   "outputs": [],
   "source": [
    "np.mean(sample)"
   ]
  },
  {
   "cell_type": "code",
   "execution_count": null,
   "metadata": {},
   "outputs": [],
   "source": [
    "sample1=np.random.choice(p,20)\n",
    "sample1\n",
    "sample2=np.random.choice(p,20)\n",
    "sample3=np.random.choice(p,20)\n",
    "sample4=np.random.choice(p,20)"
   ]
  },
  {
   "cell_type": "code",
   "execution_count": null,
   "metadata": {},
   "outputs": [],
   "source": [
    "all_samples=[sample1,sample2,sample3,sample4]\n",
    "mean_samples=[]\n",
    "\n",
    "for i in all_samples:\n",
    "    mean_samples.append(np.mean(i))\n",
    "print(mean_samples)    "
   ]
  },
  {
   "cell_type": "code",
   "execution_count": null,
   "metadata": {},
   "outputs": [],
   "source": [
    "np.mean(mean_samples)"
   ]
  },
  {
   "cell_type": "code",
   "execution_count": null,
   "metadata": {},
   "outputs": [],
   "source": []
  }
 ],
 "metadata": {
  "kernelspec": {
   "display_name": "Python 3",
   "language": "python",
   "name": "python3"
  },
  "language_info": {
   "codemirror_mode": {
    "name": "ipython",
    "version": 3
   },
   "file_extension": ".py",
   "mimetype": "text/x-python",
   "name": "python",
   "nbconvert_exporter": "python",
   "pygments_lexer": "ipython3",
   "version": "3.8.5"
  }
 },
 "nbformat": 4,
 "nbformat_minor": 2
}
