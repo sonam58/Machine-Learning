{
 "cells": [
  {
   "cell_type": "code",
   "execution_count": 34,
   "metadata": {},
   "outputs": [],
   "source": [
    "# %load ../standard_import.txt\n",
    "import pandas as pd\n",
    "import numpy as np\n",
    "import matplotlib as mpl\n",
    "import matplotlib.pyplot as plt\n",
    "import seaborn as sns\n",
    "\n",
    "from sklearn.preprocessing import scale\n",
    "#from sklearn.decomposition import PCA\n",
    "from sklearn.cluster import KMeans\n",
    "\n",
    "#from scipy.cluster import hierarchy\n",
    "\n",
    "%matplotlib inline\n",
    "plt.style.use('seaborn-white')"
   ]
  },
  {
   "cell_type": "code",
   "execution_count": 2,
   "metadata": {},
   "outputs": [],
   "source": [
    "# Generate data\n",
    "np.random.seed(2)"
   ]
  },
  {
   "cell_type": "code",
   "execution_count": 35,
   "metadata": {},
   "outputs": [
    {
     "data": {
      "text/plain": [
       "array([[-1.41622753,  0.879899  ],\n",
       "       [ 1.37459323, -0.45104291],\n",
       "       [ 0.61353263, -0.21015656],\n",
       "       [ 0.40805817,  1.73239851],\n",
       "       [-0.34944796, -1.23313682],\n",
       "       [ 0.71827439,  0.51655963],\n",
       "       [ 0.67380149,  1.02645497],\n",
       "       [-0.68114843, -1.96601472],\n",
       "       [ 1.04090637, -0.40865031],\n",
       "       [-1.20740046, -1.16829028],\n",
       "       [ 1.12837333,  0.18083331],\n",
       "       [ 0.30290203,  0.85038687],\n",
       "       [-0.67690095, -1.12511459],\n",
       "       [-0.85295128, -1.10457461],\n",
       "       [-0.2910958 , -0.89097573],\n",
       "       [ 0.03863521, -0.48084914],\n",
       "       [-0.07997949,  0.64979034],\n",
       "       [ 1.40127689,  1.55593792],\n",
       "       [ 0.11492218,  0.21237029],\n",
       "       [-0.50838023,  1.00598199],\n",
       "       [ 1.53179086, -0.5936018 ],\n",
       "       [ 0.76410567, -0.32956654],\n",
       "       [-0.17111499,  0.18428476],\n",
       "       [-0.40117682,  0.89510438],\n",
       "       [-1.49585236, -0.69539691],\n",
       "       [-0.11941144, -1.0448237 ],\n",
       "       [ 0.36063798, -1.5149043 ],\n",
       "       [ 0.05517757, -1.44026488],\n",
       "       [-0.14524674,  0.5080733 ],\n",
       "       [ 2.20356402,  1.07763433],\n",
       "       [ 1.61724121,  0.06797219],\n",
       "       [ 2.11573584, -0.24125867],\n",
       "       [-0.25219751, -1.28208283],\n",
       "       [ 0.22225175,  1.0536004 ],\n",
       "       [-0.63385814, -0.37060219],\n",
       "       [-0.46354497, -0.33145256],\n",
       "       [-0.59038339, -1.35003972],\n",
       "       [ 1.38096813, -1.97175308],\n",
       "       [-0.92708219,  0.34374145],\n",
       "       [ 1.01156174, -0.20860081],\n",
       "       [-0.28324629,  0.04947654],\n",
       "       [-0.26131204,  0.87674248],\n",
       "       [-0.48287869, -0.98541846],\n",
       "       [-0.47266282,  0.09626794],\n",
       "       [ 1.2292134 ,  1.59987751],\n",
       "       [-0.39941428, -1.46418356],\n",
       "       [-1.38386628,  2.12532215],\n",
       "       [-0.40286978,  0.45790622],\n",
       "       [ 1.91728485, -0.68011624],\n",
       "       [-0.19457399, -0.58059517]])"
      ]
     },
     "execution_count": 35,
     "metadata": {},
     "output_type": "execute_result"
    }
   ],
   "source": [
    "X = np.random.standard_normal((50,2))\n",
    "X"
   ]
  },
  {
   "cell_type": "code",
   "execution_count": 36,
   "metadata": {},
   "outputs": [
    {
     "data": {
      "text/plain": [
       "array([[ 1.58377247,  0.879899  ],\n",
       "       [ 4.37459323, -0.45104291],\n",
       "       [ 3.61353263, -0.21015656],\n",
       "       [ 3.40805817,  1.73239851],\n",
       "       [ 2.65055204, -1.23313682],\n",
       "       [ 3.71827439,  0.51655963],\n",
       "       [ 3.67380149,  1.02645497],\n",
       "       [ 2.31885157, -1.96601472],\n",
       "       [ 4.04090637, -0.40865031],\n",
       "       [ 1.79259954, -1.16829028],\n",
       "       [ 4.12837333,  0.18083331],\n",
       "       [ 3.30290203,  0.85038687],\n",
       "       [ 2.32309905, -1.12511459],\n",
       "       [ 2.14704872, -1.10457461],\n",
       "       [ 2.7089042 , -0.89097573],\n",
       "       [ 3.03863521, -0.48084914],\n",
       "       [ 2.92002051,  0.64979034],\n",
       "       [ 4.40127689,  1.55593792],\n",
       "       [ 3.11492218,  0.21237029],\n",
       "       [ 2.49161977,  1.00598199],\n",
       "       [ 4.53179086, -0.5936018 ],\n",
       "       [ 3.76410567, -0.32956654],\n",
       "       [ 2.82888501,  0.18428476],\n",
       "       [ 2.59882318,  0.89510438],\n",
       "       [ 1.50414764, -0.69539691],\n",
       "       [-0.11941144, -1.0448237 ],\n",
       "       [ 0.36063798, -1.5149043 ],\n",
       "       [ 0.05517757, -1.44026488],\n",
       "       [-0.14524674,  0.5080733 ],\n",
       "       [ 2.20356402,  1.07763433],\n",
       "       [ 1.61724121,  0.06797219],\n",
       "       [ 2.11573584, -0.24125867],\n",
       "       [-0.25219751, -1.28208283],\n",
       "       [ 0.22225175,  1.0536004 ],\n",
       "       [-0.63385814, -0.37060219],\n",
       "       [-0.46354497, -0.33145256],\n",
       "       [-0.59038339, -1.35003972],\n",
       "       [ 1.38096813, -1.97175308],\n",
       "       [-0.92708219,  0.34374145],\n",
       "       [ 1.01156174, -0.20860081],\n",
       "       [-0.28324629,  0.04947654],\n",
       "       [-0.26131204,  0.87674248],\n",
       "       [-0.48287869, -0.98541846],\n",
       "       [-0.47266282,  0.09626794],\n",
       "       [ 1.2292134 ,  1.59987751],\n",
       "       [-0.39941428, -1.46418356],\n",
       "       [-1.38386628,  2.12532215],\n",
       "       [-0.40286978,  0.45790622],\n",
       "       [ 1.91728485, -0.68011624],\n",
       "       [-0.19457399, -0.58059517]])"
      ]
     },
     "execution_count": 36,
     "metadata": {},
     "output_type": "execute_result"
    }
   ],
   "source": [
    "X[:25,0] = X[:25,0]+3\n",
    "X"
   ]
  },
  {
   "cell_type": "code",
   "execution_count": 11,
   "metadata": {},
   "outputs": [
    {
     "data": {
      "text/plain": [
       "array([[ 2.62848088,  3.16096597],\n",
       "       [ 3.10995101, -1.91352322],\n",
       "       [ 3.59982043,  0.54938447],\n",
       "       [ 4.38378103,  0.14834924],\n",
       "       [ 2.34645856,  1.40883398],\n",
       "       [ 3.71206123, -1.80071604],\n",
       "       [ 3.74759894, -0.232897  ],\n",
       "       [ 4.11064528, -0.37333881],\n",
       "       [ 3.78614607,  0.1941687 ],\n",
       "       [ 3.5862041 , -0.02038729]])"
      ]
     },
     "execution_count": 11,
     "metadata": {},
     "output_type": "execute_result"
    }
   ],
   "source": [
    "#X[:10,0] = X[:10,0]+3\n",
    "#X"
   ]
  },
  {
   "cell_type": "code",
   "execution_count": 12,
   "metadata": {},
   "outputs": [
    {
     "data": {
      "text/plain": [
       "array([[ 2.62848088, -0.83903403],\n",
       "       [ 3.10995101, -5.91352322],\n",
       "       [ 3.59982043, -3.45061553],\n",
       "       [ 4.38378103, -3.85165076],\n",
       "       [ 2.34645856, -2.59116602],\n",
       "       [ 3.71206123, -5.80071604],\n",
       "       [ 3.74759894, -4.232897  ],\n",
       "       [ 4.11064528, -4.37333881],\n",
       "       [ 3.78614607, -3.8058313 ],\n",
       "       [ 3.5862041 , -4.02038729]])"
      ]
     },
     "execution_count": 12,
     "metadata": {},
     "output_type": "execute_result"
    }
   ],
   "source": [
    "#X[:10,1] = X[:10,1]-4\n",
    "#X"
   ]
  },
  {
   "cell_type": "code",
   "execution_count": 37,
   "metadata": {},
   "outputs": [
    {
     "data": {
      "text/plain": [
       "array([[ 1.58377247, -3.120101  ],\n",
       "       [ 4.37459323, -4.45104291],\n",
       "       [ 3.61353263, -4.21015656],\n",
       "       [ 3.40805817, -2.26760149],\n",
       "       [ 2.65055204, -5.23313682],\n",
       "       [ 3.71827439, -3.48344037],\n",
       "       [ 3.67380149, -2.97354503],\n",
       "       [ 2.31885157, -5.96601472],\n",
       "       [ 4.04090637, -4.40865031],\n",
       "       [ 1.79259954, -5.16829028],\n",
       "       [ 4.12837333, -3.81916669],\n",
       "       [ 3.30290203, -3.14961313],\n",
       "       [ 2.32309905, -5.12511459],\n",
       "       [ 2.14704872, -5.10457461],\n",
       "       [ 2.7089042 , -4.89097573],\n",
       "       [ 3.03863521, -4.48084914],\n",
       "       [ 2.92002051, -3.35020966],\n",
       "       [ 4.40127689, -2.44406208],\n",
       "       [ 3.11492218, -3.78762971],\n",
       "       [ 2.49161977, -2.99401801],\n",
       "       [ 4.53179086, -4.5936018 ],\n",
       "       [ 3.76410567, -4.32956654],\n",
       "       [ 2.82888501, -3.81571524],\n",
       "       [ 2.59882318, -3.10489562],\n",
       "       [ 1.50414764, -4.69539691],\n",
       "       [-0.11941144, -1.0448237 ],\n",
       "       [ 0.36063798, -1.5149043 ],\n",
       "       [ 0.05517757, -1.44026488],\n",
       "       [-0.14524674,  0.5080733 ],\n",
       "       [ 2.20356402,  1.07763433],\n",
       "       [ 1.61724121,  0.06797219],\n",
       "       [ 2.11573584, -0.24125867],\n",
       "       [-0.25219751, -1.28208283],\n",
       "       [ 0.22225175,  1.0536004 ],\n",
       "       [-0.63385814, -0.37060219],\n",
       "       [-0.46354497, -0.33145256],\n",
       "       [-0.59038339, -1.35003972],\n",
       "       [ 1.38096813, -1.97175308],\n",
       "       [-0.92708219,  0.34374145],\n",
       "       [ 1.01156174, -0.20860081],\n",
       "       [-0.28324629,  0.04947654],\n",
       "       [-0.26131204,  0.87674248],\n",
       "       [-0.48287869, -0.98541846],\n",
       "       [-0.47266282,  0.09626794],\n",
       "       [ 1.2292134 ,  1.59987751],\n",
       "       [-0.39941428, -1.46418356],\n",
       "       [-1.38386628,  2.12532215],\n",
       "       [-0.40286978,  0.45790622],\n",
       "       [ 1.91728485, -0.68011624],\n",
       "       [-0.19457399, -0.58059517]])"
      ]
     },
     "execution_count": 37,
     "metadata": {},
     "output_type": "execute_result"
    }
   ],
   "source": [
    "X[:25,1] = X[:25,1]-4\n",
    "X"
   ]
  },
  {
   "cell_type": "markdown",
   "metadata": {},
   "source": [
    "K = 2"
   ]
  },
  {
   "cell_type": "code",
   "execution_count": 39,
   "metadata": {},
   "outputs": [
    {
     "data": {
      "text/plain": [
       "KMeans(algorithm='auto', copy_x=True, init='k-means++', max_iter=300,\n",
       "       n_clusters=2, n_init=20, n_jobs=None, precompute_distances='auto',\n",
       "       random_state=None, tol=0.0001, verbose=0)"
      ]
     },
     "execution_count": 39,
     "metadata": {},
     "output_type": "execute_result"
    }
   ],
   "source": [
    "km1 = KMeans(n_clusters=2, n_init=20)\n",
    "km1.fit(X)"
   ]
  },
  {
   "cell_type": "code",
   "execution_count": 40,
   "metadata": {},
   "outputs": [
    {
     "data": {
      "text/plain": [
       "array([1, 1, 1, 1, 1, 1, 1, 1, 1, 1, 1, 1, 1, 1, 1, 1, 1, 1, 1, 1, 1, 1,\n",
       "       1, 1, 1, 0, 0, 0, 0, 0, 0, 0, 0, 0, 0, 0, 0, 0, 0, 0, 0, 0, 0, 0,\n",
       "       0, 0, 0, 0, 0, 0])"
      ]
     },
     "execution_count": 40,
     "metadata": {},
     "output_type": "execute_result"
    }
   ],
   "source": [
    "km1.labels_"
   ]
  },
  {
   "cell_type": "markdown",
   "metadata": {},
   "source": [
    "K = 3"
   ]
  },
  {
   "cell_type": "code",
   "execution_count": 42,
   "metadata": {},
   "outputs": [
    {
     "data": {
      "text/plain": [
       "KMeans(algorithm='auto', copy_x=True, init='k-means++', max_iter=300,\n",
       "       n_clusters=3, n_init=20, n_jobs=None, precompute_distances='auto',\n",
       "       random_state=None, tol=0.0001, verbose=0)"
      ]
     },
     "execution_count": 42,
     "metadata": {},
     "output_type": "execute_result"
    }
   ],
   "source": [
    "np.random.seed(4)\n",
    "km2 = KMeans(n_clusters=3, n_init=20)\n",
    "km2.fit(X)"
   ]
  },
  {
   "cell_type": "code",
   "execution_count": 43,
   "metadata": {},
   "outputs": [
    {
     "data": {
      "text/plain": [
       "array([1, 1, 1, 1, 1, 1, 1, 1, 1, 1, 1, 1, 1, 1, 1, 1, 1, 1, 1, 1, 1, 1,\n",
       "       1, 1, 1, 2, 2, 2, 2, 0, 0, 0, 2, 2, 2, 2, 2, 0, 2, 0, 2, 2, 2, 2,\n",
       "       0, 2, 2, 2, 0, 2])"
      ]
     },
     "execution_count": 43,
     "metadata": {},
     "output_type": "execute_result"
    }
   ],
   "source": [
    "km2.labels_"
   ]
  },
  {
   "cell_type": "code",
   "execution_count": 44,
   "metadata": {},
   "outputs": [
    {
     "data": {
      "text/plain": [
       "1    25\n",
       "2    18\n",
       "0     7\n",
       "dtype: int64"
      ]
     },
     "execution_count": 44,
     "metadata": {},
     "output_type": "execute_result"
    }
   ],
   "source": [
    "pd.Series(km2.labels_).value_counts()"
   ]
  },
  {
   "cell_type": "code",
   "execution_count": 45,
   "metadata": {},
   "outputs": [
    {
     "data": {
      "text/plain": [
       "array([[ 1.63936703, -0.05089211],\n",
       "       [ 3.07917985, -4.03869476],\n",
       "       [-0.35413785, -0.26962427]])"
      ]
     },
     "execution_count": 45,
     "metadata": {},
     "output_type": "execute_result"
    }
   ],
   "source": [
    "km2.cluster_centers_"
   ]
  },
  {
   "cell_type": "code",
   "execution_count": 46,
   "metadata": {},
   "outputs": [
    {
     "data": {
      "text/plain": [
       "71.23749384388643"
      ]
     },
     "execution_count": 46,
     "metadata": {},
     "output_type": "execute_result"
    }
   ],
   "source": [
    "# Sum of distances of samples to their closest cluster center.\n",
    "km2.inertia_"
   ]
  },
  {
   "cell_type": "code",
   "execution_count": 47,
   "metadata": {},
   "outputs": [
    {
     "data": {
      "image/png": "[encoded data removed]",
      "text/plain": [
       "<Figure size 1008x360 with 2 Axes>"
      ]
     },
     "metadata": {},
     "output_type": "display_data"
    }
   ],
   "source": [
    "fig, (ax1, ax2) = plt.subplots(1,2, figsize=(14,5))\n",
    "\n",
    "ax1.scatter(X[:,0], X[:,1], s=40, c=km1.labels_, cmap=plt.cm.prism) \n",
    "ax1.set_title('K-Means Clustering Results with K=2')\n",
    "ax1.scatter(km1.cluster_centers_[:,0], km1.cluster_centers_[:,1], marker='+', s=100, c='k', linewidth=2)\n",
    "\n",
    "ax2.scatter(X[:,0], X[:,1], s=40, c=km2.labels_, cmap=plt.cm.prism) \n",
    "ax2.set_title('K-Means Clustering Results with K=3')\n",
    "ax2.scatter(km2.cluster_centers_[:,0], km2.cluster_centers_[:,1], marker='+', s=100, c='k', linewidth=2);"
   ]
  },
  {
   "cell_type": "code",
   "execution_count": null,
   "metadata": {},
   "outputs": [],
   "source": []
  },
  {
   "cell_type": "code",
   "execution_count": null,
   "metadata": {},
   "outputs": [],
   "source": []
  },
  {
   "cell_type": "code",
   "execution_count": null,
   "metadata": {},
   "outputs": [],
   "source": []
  }
 ],
 "metadata": {
  "kernelspec": {
   "display_name": "Python 3",
   "language": "python",
   "name": "python3"
  },
  "language_info": {
   "codemirror_mode": {
    "name": "ipython",
    "version": 3
   },
   "file_extension": ".py",
   "mimetype": "text/x-python",
   "name": "python",
   "nbconvert_exporter": "python",
   "pygments_lexer": "ipython3",
   "version": "3.8.5"
  }
 },
 "nbformat": 4,
 "nbformat_minor": 2
}
